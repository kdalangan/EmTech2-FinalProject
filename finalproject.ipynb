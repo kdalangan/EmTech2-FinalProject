{
  "nbformat": 4,
  "nbformat_minor": 0,
  "metadata": {
    "colab": {
      "provenance": []
    },
    "kernelspec": {
      "name": "python3",
      "display_name": "Python 3"
    },
    "language_info": {
      "name": "python"
    }
  },
  "cells": [
    {
      "cell_type": "markdown",
      "source": [
        "Technological Institute of the Philippines | Quezon City - Computer Engineering\n",
        "--- | ---\n",
        "Course Code: | CPE 019\n",
        "Code Title: | Emerging Technologies in CpE 2  | AY 2023-2024\n",
        "<hr> | <hr>\n",
        "<u>**FINAL EXAM** | **Model Deployment in the Cloud**\n",
        "**Name** | Paul Gabriel Pagatpat & Katherine May Dalangan\n",
        "**Section** | CPE32S5\n",
        "**Date Performed**: | May 11, 2024\n",
        "**Date Submitted**: | May 18, 2024\n",
        "**Instructor**: | Engr. Roman M. Richard"
      ],
      "metadata": {
        "id": "HfyymxtpaeEw"
      }
    },
    {
      "cell_type": "code",
      "source": [
        "import os\n",
        "import pandas as pd\n",
        "import numpy as np\n",
        "import matplotlib.pyplot as plt\n",
        "import seaborn as sns\n",
        "import tensorflow as tf\n",
        "from tensorflow import keras\n",
        "from keras.layers import Flatten, Dense, Activation, Dropout, BatchNormalization\n",
        "from sklearn.model_selection import train_test_split\n",
        "from keras import models, regularizers, optimizers\n",
        "from keras.models import Sequential\n",
        "from keras.constraints import MaxNorm\n",
        "from keras import layers, models\n",
        "from keras.callbacks import ModelCheckpoint\n",
        "from keras.optimizers import SGD\n",
        "from keras.preprocessing.image import ImageDataGenerator\n",
        "from keras.optimizers import Adam, Adamax\n",
        "from keras.models import model_from_json\n",
        "from PIL import Image\n",
        "from keras.regularizers import l2\n",
        "from keras.layers import Conv2D, MaxPooling2D, Flatten, Dense, Dropout\n",
        "from keras.applications.vgg16 import VGG16, preprocess_input\n",
        "from keras.applications import VGG16\n",
        "from keras.applications.vgg16 import VGG16, preprocess_input\n",
        "from keras.callbacks import ModelCheckpoint\n",
        "from keras.applications import DenseNet121\n",
        "from keras.applications.densenet import DenseNet121, preprocess_input"
      ],
      "metadata": {
        "id": "ySD_wA2EldgV"
      },
      "execution_count": 2,
      "outputs": []
    },
    {
      "cell_type": "code",
      "source": [
        "from google.colab import drive\n",
        "drive.mount('/content/drive')"
      ],
      "metadata": {
        "colab": {
          "base_uri": "https://localhost:8080/"
        },
        "id": "a2LZLaRFydOp",
        "outputId": "4adbe1ae-77a1-49b7-f4f8-b033efa003c3"
      },
      "execution_count": 3,
      "outputs": [
        {
          "output_type": "stream",
          "name": "stdout",
          "text": [
            "Mounted at /content/drive\n"
          ]
        }
      ]
    },
    {
      "cell_type": "code",
      "source": [
        "dataset_dir = '/content/drive/MyDrive/CPE019-FinalProject/images'\n",
        "data_paths = []\n",
        "labels = []\n",
        "\n",
        "main_dirs = os.listdir(dataset_dir)\n",
        "for folder_name in main_dirs:\n",
        "    folder_path = os.path.join(dataset_dir, folder_name)\n",
        "    files = os.listdir(folder_path)\n",
        "    for file in files:\n",
        "        file_path = os.path.join(folder_path, file)\n",
        "        data_paths.append(file_path)\n",
        "        labels.append(folder_name)"
      ],
      "metadata": {
        "id": "i67I_KVvyeI-"
      },
      "execution_count": 4,
      "outputs": []
    },
    {
      "cell_type": "code",
      "source": [
        "batch_size = 16\n",
        "image_size = (150, 150)\n",
        "num_channels = 3\n",
        "image_shape = (image_size[0], image_size[1], num_channels)\n",
        "\n",
        "data_dirs = pd.Series(data_paths, name='data_dir')\n",
        "classes = pd.Series(labels, name='class')\n",
        "dataframe = pd.concat([data_dirs, classes], axis=1)\n",
        "\n",
        "def preprocess_image(img):\n",
        "    return img"
      ],
      "metadata": {
        "id": "fIH2kyGEy0jq"
      },
      "execution_count": 5,
      "outputs": []
    },
    {
      "cell_type": "code",
      "source": [
        "train_df, val_test_df = train_test_split(dataframe, train_size=0.8, shuffle=True, random_state=123)\n",
        "val_df, test_df = train_test_split(val_test_df, train_size=0.5, shuffle=True, random_state=123)\n",
        "\n",
        "datagen = ImageDataGenerator(preprocessing_function=preprocess_image, rescale=1.0/255)\n",
        "train_generator = datagen.flow_from_dataframe(train_df, x_col='data_dir', y_col='class',\n",
        "                                              target_size=image_size, class_mode='categorical',\n",
        "                                              color_mode='rgb', shuffle=True, batch_size=batch_size)\n",
        "valid_generator = datagen.flow_from_dataframe(val_df, x_col='data_dir', y_col='class',\n",
        "                                              target_size=image_size, class_mode='categorical',\n",
        "                                              color_mode='rgb', shuffle=True, batch_size=batch_size)\n",
        "test_generator = datagen.flow_from_dataframe(test_df, x_col='data_dir', y_col='class',\n",
        "                                             target_size=image_size, class_mode='categorical',\n",
        "                                             color_mode='rgb', shuffle=True, batch_size=batch_size)"
      ],
      "metadata": {
        "colab": {
          "base_uri": "https://localhost:8080/"
        },
        "id": "rBVMC3Oyy6kx",
        "outputId": "187ddc42-f563-4244-b4af-cf9c16b74ed6"
      },
      "execution_count": 6,
      "outputs": [
        {
          "output_type": "stream",
          "name": "stdout",
          "text": [
            "Found 900 validated image filenames belonging to 4 classes.\n",
            "Found 112 validated image filenames belonging to 4 classes.\n",
            "Found 113 validated image filenames belonging to 4 classes.\n"
          ]
        }
      ]
    },
    {
      "cell_type": "code",
      "source": [
        "class_indices = train_generator.class_indices\n",
        "print(class_indices)\n",
        "\n",
        "step_size_train = train_generator.n // train_generator.batch_size\n",
        "step_size_valid = valid_generator.n // valid_generator.batch_size\n",
        "\n",
        "print(dataframe)"
      ],
      "metadata": {
        "colab": {
          "base_uri": "https://localhost:8080/"
        },
        "id": "fMneSt1XzEZz",
        "outputId": "e7ec42dd-8ade-44ae-cea5-66549533d231"
      },
      "execution_count": 7,
      "outputs": [
        {
          "output_type": "stream",
          "name": "stdout",
          "text": [
            "{'cloudy': 0, 'rain': 1, 'shine': 2, 'sunrise': 3}\n",
            "                                               data_dir    class\n",
            "0     /content/drive/MyDrive/CPE019-FinalProject/ima...  sunrise\n",
            "1     /content/drive/MyDrive/CPE019-FinalProject/ima...  sunrise\n",
            "2     /content/drive/MyDrive/CPE019-FinalProject/ima...  sunrise\n",
            "3     /content/drive/MyDrive/CPE019-FinalProject/ima...  sunrise\n",
            "4     /content/drive/MyDrive/CPE019-FinalProject/ima...  sunrise\n",
            "...                                                 ...      ...\n",
            "1120  /content/drive/MyDrive/CPE019-FinalProject/ima...    shine\n",
            "1121  /content/drive/MyDrive/CPE019-FinalProject/ima...    shine\n",
            "1122  /content/drive/MyDrive/CPE019-FinalProject/ima...    shine\n",
            "1123  /content/drive/MyDrive/CPE019-FinalProject/ima...    shine\n",
            "1124  /content/drive/MyDrive/CPE019-FinalProject/ima...    shine\n",
            "\n",
            "[1125 rows x 2 columns]\n"
          ]
        }
      ]
    },
    {
      "cell_type": "code",
      "source": [
        "base_model = DenseNet121(\n",
        "    weights='imagenet',\n",
        "    include_top=False,\n",
        "    input_shape=(150,150,3) ,\n",
        "    classes=4\n",
        ")"
      ],
      "metadata": {
        "id": "BdbNpGU40RkV",
        "colab": {
          "base_uri": "https://localhost:8080/"
        },
        "outputId": "39324397-bdf0-475c-a7b3-51b31544aa15"
      },
      "execution_count": 8,
      "outputs": [
        {
          "output_type": "stream",
          "name": "stdout",
          "text": [
            "Downloading data from https://storage.googleapis.com/tensorflow/keras-applications/densenet/densenet121_weights_tf_dim_ordering_tf_kernels_notop.h5\n",
            "29084464/29084464 [==============================] - 0s 0us/step\n"
          ]
        }
      ]
    },
    {
      "cell_type": "code",
      "source": [
        "\n",
        "for layer in base_model.layers:\n",
        "    layer.trainable = False\n",
        "model = Sequential()\n",
        "model.add(base_model)\n",
        "model.add(Flatten())\n",
        "\n",
        "model.add(Dense(1024, activation='relu'))\n",
        "model.add(Dropout(0.5))\n",
        "model.add(Dense(1024, activation='relu'))\n",
        "model.add(Dropout(0.3))\n",
        "model.add(Dense(512, activation='relu'))\n",
        "\n",
        "model.add(Dense(128, activation='relu'))\n",
        "model.add(Dense(4, activation='softmax'))"
      ],
      "metadata": {
        "id": "a-zKuTaCzHzO"
      },
      "execution_count": 14,
      "outputs": []
    },
    {
      "cell_type": "code",
      "source": [
        "checkpoint_path = \"/content/drive/MyDrive/CPE019-FinalProject/bestmodel.hdf5.h5\"\n",
        "checkpoint = ModelCheckpoint(\n",
        "    checkpoint_path,\n",
        "    monitor='val_accuracy',\n",
        "    save_best_only=True,\n",
        "    mode='max',\n",
        "    verbose=1\n",
        ")"
      ],
      "metadata": {
        "id": "ajDAs59noceD"
      },
      "execution_count": 15,
      "outputs": []
    },
    {
      "cell_type": "code",
      "source": [
        "model.compile(optimizer='adam',\n",
        "              loss='categorical_crossentropy',\n",
        "              metrics=['accuracy'])"
      ],
      "metadata": {
        "id": "U5KrGC5GzPHE"
      },
      "execution_count": 16,
      "outputs": []
    },
    {
      "cell_type": "code",
      "source": [
        "\n",
        "history = model.fit(\n",
        "    train_generator,\n",
        "    steps_per_epoch=train_generator.samples // train_generator.batch_size,\n",
        "    epochs=10,\n",
        "    validation_data=valid_generator,\n",
        "    validation_steps=valid_generator.samples // valid_generator.batch_size,\n",
        "    callbacks=[checkpoint]\n",
        ")\n",
        ""
      ],
      "metadata": {
        "colab": {
          "base_uri": "https://localhost:8080/"
        },
        "id": "hEAhxuTA09yv",
        "outputId": "ab24975d-cc3d-4537-f105-f1ec54218fbd"
      },
      "execution_count": 18,
      "outputs": [
        {
          "output_type": "stream",
          "name": "stdout",
          "text": [
            "Epoch 1/10\n",
            "56/56 [==============================] - ETA: 0s - loss: 0.6139 - accuracy: 0.8111\n",
            "Epoch 1: val_accuracy improved from -inf to 0.92857, saving model to /content/drive/MyDrive/CPE019-FinalProject/bestmodel.hdf5.h5\n"
          ]
        },
        {
          "output_type": "stream",
          "name": "stderr",
          "text": [
            "/usr/local/lib/python3.10/dist-packages/keras/src/engine/training.py:3103: UserWarning: You are saving your model as an HDF5 file via `model.save()`. This file format is considered legacy. We recommend using instead the native Keras format, e.g. `model.save('my_model.keras')`.\n",
            "  saving_api.save_model(\n"
          ]
        },
        {
          "output_type": "stream",
          "name": "stdout",
          "text": [
            "\b\b\b\b\b\b\b\b\b\b\b\b\b\b\b\b\b\b\b\b\b\b\b\b\b\b\b\b\b\b\b\b\b\b\b\b\b\b\b\b\b\b\b\b\b\b\b\b\b\b\b\b\b\b\b\b\b\b\b\b\b\b\b\b\b\b\b\b\b\b\b\b\b\b\b\b\b\b\b\b\b\b\r56/56 [==============================] - 185s 3s/step - loss: 0.6139 - accuracy: 0.8111 - val_loss: 0.1624 - val_accuracy: 0.9286\n",
            "Epoch 2/10\n",
            "56/56 [==============================] - ETA: 0s - loss: 0.2429 - accuracy: 0.9197\n",
            "Epoch 2: val_accuracy did not improve from 0.92857\n",
            "56/56 [==============================] - 95s 2s/step - loss: 0.2429 - accuracy: 0.9197 - val_loss: 0.1444 - val_accuracy: 0.9286\n",
            "Epoch 3/10\n",
            "56/56 [==============================] - ETA: 0s - loss: 0.2384 - accuracy: 0.9299\n",
            "Epoch 3: val_accuracy did not improve from 0.92857\n",
            "56/56 [==============================] - 99s 2s/step - loss: 0.2384 - accuracy: 0.9299 - val_loss: 0.5237 - val_accuracy: 0.8482\n",
            "Epoch 4/10\n",
            "56/56 [==============================] - ETA: 0s - loss: 0.1925 - accuracy: 0.9389\n",
            "Epoch 4: val_accuracy improved from 0.92857 to 0.95536, saving model to /content/drive/MyDrive/CPE019-FinalProject/bestmodel.hdf5.h5\n",
            "56/56 [==============================] - 100s 2s/step - loss: 0.1925 - accuracy: 0.9389 - val_loss: 0.1622 - val_accuracy: 0.9554\n",
            "Epoch 5/10\n",
            "56/56 [==============================] - ETA: 0s - loss: 0.1923 - accuracy: 0.9457\n",
            "Epoch 5: val_accuracy did not improve from 0.95536\n",
            "56/56 [==============================] - 112s 2s/step - loss: 0.1923 - accuracy: 0.9457 - val_loss: 0.1234 - val_accuracy: 0.9554\n",
            "Epoch 6/10\n",
            "56/56 [==============================] - ETA: 0s - loss: 0.0785 - accuracy: 0.9706\n",
            "Epoch 6: val_accuracy did not improve from 0.95536\n",
            "56/56 [==============================] - 99s 2s/step - loss: 0.0785 - accuracy: 0.9706 - val_loss: 0.1160 - val_accuracy: 0.9554\n",
            "Epoch 7/10\n",
            "56/56 [==============================] - ETA: 0s - loss: 0.0860 - accuracy: 0.9661\n",
            "Epoch 7: val_accuracy did not improve from 0.95536\n",
            "56/56 [==============================] - 98s 2s/step - loss: 0.0860 - accuracy: 0.9661 - val_loss: 0.2537 - val_accuracy: 0.9286\n",
            "Epoch 8/10\n",
            "56/56 [==============================] - ETA: 0s - loss: 0.0837 - accuracy: 0.9717\n",
            "Epoch 8: val_accuracy did not improve from 0.95536\n",
            "56/56 [==============================] - 95s 2s/step - loss: 0.0837 - accuracy: 0.9717 - val_loss: 0.2164 - val_accuracy: 0.9286\n",
            "Epoch 9/10\n",
            "56/56 [==============================] - ETA: 0s - loss: 0.1397 - accuracy: 0.9581\n",
            "Epoch 9: val_accuracy did not improve from 0.95536\n",
            "56/56 [==============================] - 95s 2s/step - loss: 0.1397 - accuracy: 0.9581 - val_loss: 0.2197 - val_accuracy: 0.9464\n",
            "Epoch 10/10\n",
            "56/56 [==============================] - ETA: 0s - loss: 0.0729 - accuracy: 0.9796\n",
            "Epoch 10: val_accuracy did not improve from 0.95536\n",
            "56/56 [==============================] - 97s 2s/step - loss: 0.0729 - accuracy: 0.9796 - val_loss: 0.2980 - val_accuracy: 0.9375\n"
          ]
        }
      ]
    },
    {
      "cell_type": "code",
      "source": [
        "fig = plt.figure()\n",
        "plt.plot(history.history['loss'], color='red', label='loss')\n",
        "plt.plot(history.history['val_loss'], color='teal', label='val_loss')\n",
        "fig.suptitle('Loss', fontsize=20)\n",
        "plt.legend()\n",
        "plt.show()"
      ],
      "metadata": {
        "id": "BRV6Nud7zYub",
        "colab": {
          "base_uri": "https://localhost:8080/",
          "height": 478
        },
        "outputId": "0341a9a3-4eef-4c50-d794-9b3419859c39"
      },
      "execution_count": 24,
      "outputs": [
        {
          "output_type": "display_data",
          "data": {
            "text/plain": [
              "<Figure size 640x480 with 1 Axes>"
            ],
            "image/png": "[encoded data removed]"
          },
          "metadata": {}
        }
      ]
    },
    {
      "cell_type": "code",
      "source": [
        "fig = plt.figure()\n",
        "plt.plot(history.history['accuracy'], color='red', label='accuracy')\n",
        "plt.plot(history.history['val_accuracy'], color='teal', label='val_accuracy')\n",
        "fig.suptitle('Accuracy', fontsize=20)\n",
        "plt.legend()\n",
        "plt.show()"
      ],
      "metadata": {
        "id": "1mEuSzvNza2k",
        "colab": {
          "base_uri": "https://localhost:8080/",
          "height": 478
        },
        "outputId": "b28b462d-eb88-46ec-bf77-adf73c698c99"
      },
      "execution_count": 26,
      "outputs": [
        {
          "output_type": "display_data",
          "data": {
            "text/plain": [
              "<Figure size 640x480 with 1 Axes>"
            ],
            "image/png": "[encoded data removed]"
          },
          "metadata": {}
        }
      ]
    },
    {
      "cell_type": "markdown",
      "source": [
        "# **Streamlit Deployment**"
      ],
      "metadata": {
        "id": "WfOGwxsLufq3"
      }
    },
    {
      "cell_type": "code",
      "source": [
        "!pip install streamlit"
      ],
      "metadata": {
        "colab": {
          "base_uri": "https://localhost:8080/"
        },
        "id": "PRRfJXg8uhz4",
        "outputId": "c44e5d80-7ab1-4b18-b0a2-8598d0e7ae52"
      },
      "execution_count": 27,
      "outputs": [
        {
          "output_type": "stream",
          "name": "stdout",
          "text": [
            "Collecting streamlit\n",
            "  Downloading streamlit-1.34.0-py2.py3-none-any.whl (8.5 MB)\n",
            "\u001b[2K     \u001b[90m━━━━━━━━━━━━━━━━━━━━━━━━━━━━━━━━━━━━━━━━\u001b[0m \u001b[32m8.5/8.5 MB\u001b[0m \u001b[31m17.7 MB/s\u001b[0m eta \u001b[36m0:00:00\u001b[0m\n",
            "\u001b[?25hRequirement already satisfied: altair<6,>=4.0 in /usr/local/lib/python3.10/dist-packages (from streamlit) (4.2.2)\n",
            "Requirement already satisfied: blinker<2,>=1.0.0 in /usr/lib/python3/dist-packages (from streamlit) (1.4)\n",
            "Requirement already satisfied: cachetools<6,>=4.0 in /usr/local/lib/python3.10/dist-packages (from streamlit) (5.3.3)\n",
            "Requirement already satisfied: click<9,>=7.0 in /usr/local/lib/python3.10/dist-packages (from streamlit) (8.1.7)\n",
            "Requirement already satisfied: numpy<2,>=1.19.3 in /usr/local/lib/python3.10/dist-packages (from streamlit) (1.25.2)\n",
            "Requirement already satisfied: packaging<25,>=16.8 in /usr/local/lib/python3.10/dist-packages (from streamlit) (24.0)\n",
            "Requirement already satisfied: pandas<3,>=1.3.0 in /usr/local/lib/python3.10/dist-packages (from streamlit) (2.0.3)\n",
            "Requirement already satisfied: pillow<11,>=7.1.0 in /usr/local/lib/python3.10/dist-packages (from streamlit) (9.4.0)\n",
            "Requirement already satisfied: protobuf<5,>=3.20 in /usr/local/lib/python3.10/dist-packages (from streamlit) (3.20.3)\n",
            "Requirement already satisfied: pyarrow>=7.0 in /usr/local/lib/python3.10/dist-packages (from streamlit) (14.0.2)\n",
            "Requirement already satisfied: requests<3,>=2.27 in /usr/local/lib/python3.10/dist-packages (from streamlit) (2.31.0)\n",
            "Requirement already satisfied: rich<14,>=10.14.0 in /usr/local/lib/python3.10/dist-packages (from streamlit) (13.7.1)\n",
            "Requirement already satisfied: tenacity<9,>=8.1.0 in /usr/local/lib/python3.10/dist-packages (from streamlit) (8.3.0)\n",
            "Requirement already satisfied: toml<2,>=0.10.1 in /usr/local/lib/python3.10/dist-packages (from streamlit) (0.10.2)\n",
            "Requirement already satisfied: typing-extensions<5,>=4.3.0 in /usr/local/lib/python3.10/dist-packages (from streamlit) (4.11.0)\n",
            "Collecting gitpython!=3.1.19,<4,>=3.0.7 (from streamlit)\n",
            "  Downloading GitPython-3.1.43-py3-none-any.whl (207 kB)\n",
            "\u001b[2K     \u001b[90m━━━━━━━━━━━━━━━━━━━━━━━━━━━━━━━━━━━━━━━━\u001b[0m \u001b[32m207.3/207.3 kB\u001b[0m \u001b[31m17.4 MB/s\u001b[0m eta \u001b[36m0:00:00\u001b[0m\n",
            "\u001b[?25hCollecting pydeck<1,>=0.8.0b4 (from streamlit)\n",
            "  Downloading pydeck-0.9.1-py2.py3-none-any.whl (6.9 MB)\n",
            "\u001b[2K     \u001b[90m━━━━━━━━━━━━━━━━━━━━━━━━━━━━━━━━━━━━━━━━\u001b[0m \u001b[32m6.9/6.9 MB\u001b[0m \u001b[31m30.8 MB/s\u001b[0m eta \u001b[36m0:00:00\u001b[0m\n",
            "\u001b[?25hRequirement already satisfied: tornado<7,>=6.0.3 in /usr/local/lib/python3.10/dist-packages (from streamlit) (6.3.3)\n",
            "Collecting watchdog>=2.1.5 (from streamlit)\n",
            "  Downloading watchdog-4.0.0-py3-none-manylinux2014_x86_64.whl (82 kB)\n",
            "\u001b[2K     \u001b[90m━━━━━━━━━━━━━━━━━━━━━━━━━━━━━━━━━━━━━━━━\u001b[0m \u001b[32m83.0/83.0 kB\u001b[0m \u001b[31m7.2 MB/s\u001b[0m eta \u001b[36m0:00:00\u001b[0m\n",
            "\u001b[?25hRequirement already satisfied: entrypoints in /usr/local/lib/python3.10/dist-packages (from altair<6,>=4.0->streamlit) (0.4)\n",
            "Requirement already satisfied: jinja2 in /usr/local/lib/python3.10/dist-packages (from altair<6,>=4.0->streamlit) (3.1.4)\n",
            "Requirement already satisfied: jsonschema>=3.0 in /usr/local/lib/python3.10/dist-packages (from altair<6,>=4.0->streamlit) (4.19.2)\n",
            "Requirement already satisfied: toolz in /usr/local/lib/python3.10/dist-packages (from altair<6,>=4.0->streamlit) (0.12.1)\n",
            "Collecting gitdb<5,>=4.0.1 (from gitpython!=3.1.19,<4,>=3.0.7->streamlit)\n",
            "  Downloading gitdb-4.0.11-py3-none-any.whl (62 kB)\n",
            "\u001b[2K     \u001b[90m━━━━━━━━━━━━━━━━━━━━━━━━━━━━━━━━━━━━━━━━\u001b[0m \u001b[32m62.7/62.7 kB\u001b[0m \u001b[31m5.7 MB/s\u001b[0m eta \u001b[36m0:00:00\u001b[0m\n",
            "\u001b[?25hRequirement already satisfied: python-dateutil>=2.8.2 in /usr/local/lib/python3.10/dist-packages (from pandas<3,>=1.3.0->streamlit) (2.8.2)\n",
            "Requirement already satisfied: pytz>=2020.1 in /usr/local/lib/python3.10/dist-packages (from pandas<3,>=1.3.0->streamlit) (2023.4)\n",
            "Requirement already satisfied: tzdata>=2022.1 in /usr/local/lib/python3.10/dist-packages (from pandas<3,>=1.3.0->streamlit) (2024.1)\n",
            "Requirement already satisfied: charset-normalizer<4,>=2 in /usr/local/lib/python3.10/dist-packages (from requests<3,>=2.27->streamlit) (3.3.2)\n",
            "Requirement already satisfied: idna<4,>=2.5 in /usr/local/lib/python3.10/dist-packages (from requests<3,>=2.27->streamlit) (3.7)\n",
            "Requirement already satisfied: urllib3<3,>=1.21.1 in /usr/local/lib/python3.10/dist-packages (from requests<3,>=2.27->streamlit) (2.0.7)\n",
            "Requirement already satisfied: certifi>=2017.4.17 in /usr/local/lib/python3.10/dist-packages (from requests<3,>=2.27->streamlit) (2024.2.2)\n",
            "Requirement already satisfied: markdown-it-py>=2.2.0 in /usr/local/lib/python3.10/dist-packages (from rich<14,>=10.14.0->streamlit) (3.0.0)\n",
            "Requirement already satisfied: pygments<3.0.0,>=2.13.0 in /usr/local/lib/python3.10/dist-packages (from rich<14,>=10.14.0->streamlit) (2.16.1)\n",
            "Collecting smmap<6,>=3.0.1 (from gitdb<5,>=4.0.1->gitpython!=3.1.19,<4,>=3.0.7->streamlit)\n",
            "  Downloading smmap-5.0.1-py3-none-any.whl (24 kB)\n",
            "Requirement already satisfied: MarkupSafe>=2.0 in /usr/local/lib/python3.10/dist-packages (from jinja2->altair<6,>=4.0->streamlit) (2.1.5)\n",
            "Requirement already satisfied: attrs>=22.2.0 in /usr/local/lib/python3.10/dist-packages (from jsonschema>=3.0->altair<6,>=4.0->streamlit) (23.2.0)\n",
            "Requirement already satisfied: jsonschema-specifications>=2023.03.6 in /usr/local/lib/python3.10/dist-packages (from jsonschema>=3.0->altair<6,>=4.0->streamlit) (2023.12.1)\n",
            "Requirement already satisfied: referencing>=0.28.4 in /usr/local/lib/python3.10/dist-packages (from jsonschema>=3.0->altair<6,>=4.0->streamlit) (0.35.1)\n",
            "Requirement already satisfied: rpds-py>=0.7.1 in /usr/local/lib/python3.10/dist-packages (from jsonschema>=3.0->altair<6,>=4.0->streamlit) (0.18.1)\n",
            "Requirement already satisfied: mdurl~=0.1 in /usr/local/lib/python3.10/dist-packages (from markdown-it-py>=2.2.0->rich<14,>=10.14.0->streamlit) (0.1.2)\n",
            "Requirement already satisfied: six>=1.5 in /usr/local/lib/python3.10/dist-packages (from python-dateutil>=2.8.2->pandas<3,>=1.3.0->streamlit) (1.16.0)\n",
            "Installing collected packages: watchdog, smmap, pydeck, gitdb, gitpython, streamlit\n",
            "Successfully installed gitdb-4.0.11 gitpython-3.1.43 pydeck-0.9.1 smmap-5.0.1 streamlit-1.34.0 watchdog-4.0.0\n"
          ]
        }
      ]
    },
    {
      "cell_type": "code",
      "source": [
        "!pip install streamlit pyngrok"
      ],
      "metadata": {
        "colab": {
          "base_uri": "https://localhost:8080/"
        },
        "id": "4JjqZwF0wWFY",
        "outputId": "e18556d8-1509-4deb-d5d8-4a1d5ed7550b"
      },
      "execution_count": 64,
      "outputs": [
        {
          "output_type": "stream",
          "name": "stdout",
          "text": [
            "Requirement already satisfied: streamlit in /usr/local/lib/python3.10/dist-packages (1.34.0)\n",
            "Requirement already satisfied: pyngrok in /usr/local/lib/python3.10/dist-packages (7.1.6)\n",
            "Requirement already satisfied: altair<6,>=4.0 in /usr/local/lib/python3.10/dist-packages (from streamlit) (4.2.2)\n",
            "Requirement already satisfied: blinker<2,>=1.0.0 in /usr/lib/python3/dist-packages (from streamlit) (1.4)\n",
            "Requirement already satisfied: cachetools<6,>=4.0 in /usr/local/lib/python3.10/dist-packages (from streamlit) (5.3.3)\n",
            "Requirement already satisfied: click<9,>=7.0 in /usr/local/lib/python3.10/dist-packages (from streamlit) (8.1.7)\n",
            "Requirement already satisfied: numpy<2,>=1.19.3 in /usr/local/lib/python3.10/dist-packages (from streamlit) (1.25.2)\n",
            "Requirement already satisfied: packaging<25,>=16.8 in /usr/local/lib/python3.10/dist-packages (from streamlit) (24.0)\n",
            "Requirement already satisfied: pandas<3,>=1.3.0 in /usr/local/lib/python3.10/dist-packages (from streamlit) (2.0.3)\n",
            "Requirement already satisfied: pillow<11,>=7.1.0 in /usr/local/lib/python3.10/dist-packages (from streamlit) (9.4.0)\n",
            "Requirement already satisfied: protobuf<5,>=3.20 in /usr/local/lib/python3.10/dist-packages (from streamlit) (3.20.3)\n",
            "Requirement already satisfied: pyarrow>=7.0 in /usr/local/lib/python3.10/dist-packages (from streamlit) (14.0.2)\n",
            "Requirement already satisfied: requests<3,>=2.27 in /usr/local/lib/python3.10/dist-packages (from streamlit) (2.31.0)\n",
            "Requirement already satisfied: rich<14,>=10.14.0 in /usr/local/lib/python3.10/dist-packages (from streamlit) (13.7.1)\n",
            "Requirement already satisfied: tenacity<9,>=8.1.0 in /usr/local/lib/python3.10/dist-packages (from streamlit) (8.3.0)\n",
            "Requirement already satisfied: toml<2,>=0.10.1 in /usr/local/lib/python3.10/dist-packages (from streamlit) (0.10.2)\n",
            "Requirement already satisfied: typing-extensions<5,>=4.3.0 in /usr/local/lib/python3.10/dist-packages (from streamlit) (4.11.0)\n",
            "Requirement already satisfied: gitpython!=3.1.19,<4,>=3.0.7 in /usr/local/lib/python3.10/dist-packages (from streamlit) (3.1.43)\n",
            "Requirement already satisfied: pydeck<1,>=0.8.0b4 in /usr/local/lib/python3.10/dist-packages (from streamlit) (0.9.1)\n",
            "Requirement already satisfied: tornado<7,>=6.0.3 in /usr/local/lib/python3.10/dist-packages (from streamlit) (6.3.3)\n",
            "Requirement already satisfied: watchdog>=2.1.5 in /usr/local/lib/python3.10/dist-packages (from streamlit) (4.0.0)\n",
            "Requirement already satisfied: PyYAML>=5.1 in /usr/local/lib/python3.10/dist-packages (from pyngrok) (6.0.1)\n",
            "Requirement already satisfied: entrypoints in /usr/local/lib/python3.10/dist-packages (from altair<6,>=4.0->streamlit) (0.4)\n",
            "Requirement already satisfied: jinja2 in /usr/local/lib/python3.10/dist-packages (from altair<6,>=4.0->streamlit) (3.1.4)\n",
            "Requirement already satisfied: jsonschema>=3.0 in /usr/local/lib/python3.10/dist-packages (from altair<6,>=4.0->streamlit) (4.19.2)\n",
            "Requirement already satisfied: toolz in /usr/local/lib/python3.10/dist-packages (from altair<6,>=4.0->streamlit) (0.12.1)\n",
            "Requirement already satisfied: gitdb<5,>=4.0.1 in /usr/local/lib/python3.10/dist-packages (from gitpython!=3.1.19,<4,>=3.0.7->streamlit) (4.0.11)\n",
            "Requirement already satisfied: python-dateutil>=2.8.2 in /usr/local/lib/python3.10/dist-packages (from pandas<3,>=1.3.0->streamlit) (2.8.2)\n",
            "Requirement already satisfied: pytz>=2020.1 in /usr/local/lib/python3.10/dist-packages (from pandas<3,>=1.3.0->streamlit) (2023.4)\n",
            "Requirement already satisfied: tzdata>=2022.1 in /usr/local/lib/python3.10/dist-packages (from pandas<3,>=1.3.0->streamlit) (2024.1)\n",
            "Requirement already satisfied: charset-normalizer<4,>=2 in /usr/local/lib/python3.10/dist-packages (from requests<3,>=2.27->streamlit) (3.3.2)\n",
            "Requirement already satisfied: idna<4,>=2.5 in /usr/local/lib/python3.10/dist-packages (from requests<3,>=2.27->streamlit) (3.7)\n",
            "Requirement already satisfied: urllib3<3,>=1.21.1 in /usr/local/lib/python3.10/dist-packages (from requests<3,>=2.27->streamlit) (2.0.7)\n",
            "Requirement already satisfied: certifi>=2017.4.17 in /usr/local/lib/python3.10/dist-packages (from requests<3,>=2.27->streamlit) (2024.2.2)\n",
            "Requirement already satisfied: markdown-it-py>=2.2.0 in /usr/local/lib/python3.10/dist-packages (from rich<14,>=10.14.0->streamlit) (3.0.0)\n",
            "Requirement already satisfied: pygments<3.0.0,>=2.13.0 in /usr/local/lib/python3.10/dist-packages (from rich<14,>=10.14.0->streamlit) (2.16.1)\n",
            "Requirement already satisfied: smmap<6,>=3.0.1 in /usr/local/lib/python3.10/dist-packages (from gitdb<5,>=4.0.1->gitpython!=3.1.19,<4,>=3.0.7->streamlit) (5.0.1)\n",
            "Requirement already satisfied: MarkupSafe>=2.0 in /usr/local/lib/python3.10/dist-packages (from jinja2->altair<6,>=4.0->streamlit) (2.1.5)\n",
            "Requirement already satisfied: attrs>=22.2.0 in /usr/local/lib/python3.10/dist-packages (from jsonschema>=3.0->altair<6,>=4.0->streamlit) (23.2.0)\n",
            "Requirement already satisfied: jsonschema-specifications>=2023.03.6 in /usr/local/lib/python3.10/dist-packages (from jsonschema>=3.0->altair<6,>=4.0->streamlit) (2023.12.1)\n",
            "Requirement already satisfied: referencing>=0.28.4 in /usr/local/lib/python3.10/dist-packages (from jsonschema>=3.0->altair<6,>=4.0->streamlit) (0.35.1)\n",
            "Requirement already satisfied: rpds-py>=0.7.1 in /usr/local/lib/python3.10/dist-packages (from jsonschema>=3.0->altair<6,>=4.0->streamlit) (0.18.1)\n",
            "Requirement already satisfied: mdurl~=0.1 in /usr/local/lib/python3.10/dist-packages (from markdown-it-py>=2.2.0->rich<14,>=10.14.0->streamlit) (0.1.2)\n",
            "Requirement already satisfied: six>=1.5 in /usr/local/lib/python3.10/dist-packages (from python-dateutil>=2.8.2->pandas<3,>=1.3.0->streamlit) (1.16.0)\n"
          ]
        }
      ]
    },
    {
      "cell_type": "code",
      "source": [
        "%%writefile /content/drive/MyDrive/CPE019-FinalProject/weather.py"
      ],
      "metadata": {
        "colab": {
          "base_uri": "https://localhost:8080/"
        },
        "id": "WPUAEVX_xiB-",
        "outputId": "cd883144-f91a-4ff5-af12-eb8b7d8c444a"
      },
      "execution_count": 55,
      "outputs": [
        {
          "output_type": "stream",
          "name": "stdout",
          "text": [
            "Overwriting /content/drive/MyDrive/CPE019-FinalProject/weather.py\n"
          ]
        }
      ]
    },
    {
      "cell_type": "code",
      "source": [
        "import streamlit as st\n",
        "import requests\n",
        "import h5py\n",
        "import tensorflow as tf\n",
        "from io import BytesIO\n",
        "from PIL import Image"
      ],
      "metadata": {
        "id": "HgLO2AzqusGd"
      },
      "execution_count": 56,
      "outputs": []
    },
    {
      "cell_type": "code",
      "source": [
        "class_mapping = {\n",
        "    0: 'cloudy',\n",
        "    1: 'rain',\n",
        "    2: 'shine',\n",
        "    3: 'sunrise',\n",
        "}\n",
        "\n",
        "@st.cache(allow_output_mutation=True)\n",
        "def load_model():\n",
        "    base_url = \"https://github.com/kdalangan/EmTech2-FinalProject/raw/main/\"\n",
        "    model_parts = [f\"{base_url}bestmodel.hdf5.h5.part{i:02d}\" for i in range(1, 35)]\n",
        "\n",
        "    model_bytes = b''\n",
        "    for part_url in model_parts:\n",
        "        response = requests.get(part_url)\n",
        "        model_bytes += response.content\n",
        "\n",
        "    with h5py.File(BytesIO(model_bytes), 'r') as hf:\n",
        "        model = tf.keras.models.load_model(hf)\n",
        "\n",
        "    return model"
      ],
      "metadata": {
        "id": "hbxOxKxovwSa"
      },
      "execution_count": 57,
      "outputs": []
    },
    {
      "cell_type": "code",
      "source": [
        "def predict(image, model):\n",
        "    img_array = np.array(image)\n",
        "    img_array = tf.image.resize(img_array, (150, 150))\n",
        "    img_array = tf.expand_dims(img_array, 0)\n",
        "    img_array = img_array / 255.0\n",
        "\n",
        "    predictions = model.predict(img_array)\n",
        "    predicted_class = class_mapping[np.argmax(predictions[0])]\n",
        "    return predicted_class\n",
        "\n"
      ],
      "metadata": {
        "id": "k1dYIi1AxlFj"
      },
      "execution_count": 58,
      "outputs": []
    },
    {
      "cell_type": "code",
      "source": [
        "st.title('Weather Classification')\n",
        "uploaded_file = st.file_uploader(\"Choose a weather image\", type=[\"jpg\", \"jpeg\", \"png\"])\n",
        "\n",
        "if uploaded_file is not None:\n",
        "    image = Image.open(uploaded_file)\n",
        "    st.image(image, caption='Uploaded Image.', use_column_width=True)\n",
        "    model = load_model()\n",
        "\n",
        "    predicted_class = predict(image, model)\n",
        "    st.write(f\"Prediction: {predicted_class}\")"
      ],
      "metadata": {
        "id": "0Xp5HgLaxwDK"
      },
      "execution_count": 59,
      "outputs": []
    },
    {
      "cell_type": "code",
      "source": [
        "!streamlit run /content/drive/MyDrive/CPE019-FinalProject/weather.py &>/dev/null&"
      ],
      "metadata": {
        "id": "JMCsUCakx6WN"
      },
      "execution_count": 65,
      "outputs": []
    },
    {
      "cell_type": "code",
      "source": [
        "!ngrok authtoken 2gVcPyxhlPECE0Vto00bjnpGuUe_4FJwMZGomyPTrLBiLVeuG"
      ],
      "metadata": {
        "colab": {
          "base_uri": "https://localhost:8080/"
        },
        "id": "FysNT8cT1dyT",
        "outputId": "02e7c369-df11-40dd-bea0-4564d037c01f"
      },
      "execution_count": 66,
      "outputs": [
        {
          "output_type": "stream",
          "name": "stdout",
          "text": [
            "Authtoken saved to configuration file: /root/.config/ngrok/ngrok.yml\n"
          ]
        }
      ]
    },
    {
      "cell_type": "code",
      "source": [
        "from pyngrok import ngrok\n",
        "\n",
        "public_url = ngrok.connect(addr='8501')\n",
        "print(f\"Streamlit URL: {public_url}\")\n",
        "\n",
        "!streamlit run /content/drive/MyDrive/CPE019-FinalProject/weather.py &>/dev/null&\n"
      ],
      "metadata": {
        "colab": {
          "base_uri": "https://localhost:8080/"
        },
        "id": "Y0jh5Suv2drR",
        "outputId": "85f0cc14-2c66-4ee4-82c1-ef1512e22f18"
      },
      "execution_count": 67,
      "outputs": [
        {
          "output_type": "stream",
          "name": "stdout",
          "text": [
            "Streamlit URL: NgrokTunnel: \"https://abc7-34-139-42-139.ngrok-free.app\" -> \"http://localhost:8501\"\n"
          ]
        }
      ]
    }
  ]
}